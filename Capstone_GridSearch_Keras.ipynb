{
 "cells": [
  {
   "cell_type": "code",
   "execution_count": 11,
   "metadata": {},
   "outputs": [],
   "source": [
    "from sklearn.pipeline import Pipeline\n",
    "from sklearn.model_selection import GridSearchCV, train_test_split\n",
    "from keras.wrappers.scikit_learn import KerasRegressor\n",
    "from sklearn.preprocessing import StandardScaler\n",
    "import pandas as pd\n",
    "from keras.models import Sequential\n",
    "from keras.layers import Dense, Dropout"
   ]
  },
  {
   "cell_type": "code",
   "execution_count": 4,
   "metadata": {},
   "outputs": [],
   "source": [
    "df = pd.read_csv('2000-2018_disasters_min50k_for_modeling.csv')\n",
    "features = ['BEGIN_RANGE', 'END_RANGE', 'MAGNITUDE', 'BEGIN_AZIMUTH',\n",
    "            'BEGIN_MONTH', 'END_MONTH', 'TOTAL_DURATION_HR', 'DISTANCE_COVERED(KM)', 'BEGIN_HOUR']"
   ]
  },
  {
   "cell_type": "code",
   "execution_count": 5,
   "metadata": {},
   "outputs": [
    {
     "data": {
      "text/plain": [
       "(704, 24)"
      ]
     },
     "execution_count": 5,
     "metadata": {},
     "output_type": "execute_result"
    }
   ],
   "source": [
    "hail = df[df['EVENT_TYPE'] == 'Hail']\n",
    "hail = hail[(hail['DAMAGE_PROPERTY']<1000000) & (hail['TOTAL_DURATION_HR']>0)]\n",
    "\n",
    "X = hail[features]\n",
    "X = pd.get_dummies(X)\n",
    "y = hail['DAMAGE_PROPERTY']\n",
    "X_train, X_test, y_train, y_test = train_test_split(X, y, random_state = 42)\n",
    "X_train.shape"
   ]
  },
  {
   "cell_type": "code",
   "execution_count": 6,
   "metadata": {},
   "outputs": [],
   "source": [
    "def model_func(layer_one_neurons=24, layer_one_dropout=.5, layer_two_neurons=10, input_dim=24,layer_two_dropout=.5):    \n",
    "    model = Sequential()\n",
    "    model.add(Dense(layer_one_neurons, activation='relu', input_dim=input_dim))\n",
    "    model.add(Dropout(layer_one_dropout))\n",
    "    model.add(Dense(layer_two_neurons, activation='relu'))\n",
    "    model.add(Dropout(layer_two_dropout))\n",
    "    model.add(Dense(1, activation=None))\n",
    "    model.compile(loss='mean_absolute_error', optimizer = 'adam')\n",
    "    return model"
   ]
  },
  {
   "cell_type": "code",
   "execution_count": null,
   "metadata": {},
   "outputs": [],
   "source": [
    "# function to calculate r^2 of my neural network\n",
    "def r_square(X_test,y_test):\n",
    "    y_pred = model.predict(X_test).reshape(y_test.shape[0])\n",
    "    y_test = np.array(y_test)\n",
    "    ss_res = np.sum(np.square(y_test - y_pred))\n",
    "    y_mean = np.full((1, y_test.shape[0]),y_test.mean())\n",
    "    ss_tot = np.sum(np.square(y_mean - y_test))\n",
    "    return 1-ss_res/ss_tot"
   ]
  },
  {
   "cell_type": "code",
   "execution_count": 14,
   "metadata": {},
   "outputs": [
    {
     "name": "stdout",
     "output_type": "stream",
     "text": [
      "-142644.8955965909\n"
     ]
    },
    {
     "data": {
      "text/plain": [
       "{'nn__epochs': 1000,\n",
       " 'nn__layer_one_dropout': 0.8,\n",
       " 'nn__layer_one_neurons': 24,\n",
       " 'nn__layer_two_neurons': 200}"
      ]
     },
     "execution_count": 14,
     "metadata": {},
     "output_type": "execute_result"
    }
   ],
   "source": [
    "nn = KerasRegressor(build_fn=model_func, input_dim = X_train.shape[1], verbose = 0)\n",
    "ss = StandardScaler()\n",
    "\n",
    "pipe = Pipeline([\n",
    "    ('ss', ss),\n",
    "    ('nn', nn)\n",
    "])\n",
    "\n",
    "params = {\n",
    "    'nn__epochs': [500, 1000, 5000],\n",
    "    'nn__layer_one_dropout': [0.3, 0.5],\n",
    "    'nn__layer_two_neurons': [50, 100, 200],\n",
    "    'nn__layer_two_dropout': [0.3, 0.5],\n",
    "}\n",
    "gs = GridSearchCV(pipe, param_grid= params, cv = 2)\n",
    "gs.fit(X_train, y_train)\n",
    "print(gs.best_score_)\n",
    "gs.best_params_"
   ]
  },
  {
   "cell_type": "code",
   "execution_count": 19,
   "metadata": {},
   "outputs": [],
   "source": [
    "string_to_save = f\"{gs.best_params_['nn__epochs']} epochs, {gs.best_params_['nn__layer_one_dropout']} layer_one_dropout, {gs.best_params_['nn__layer_one_neurons']} layer_one_neurons, {gs.best_params_['nn__layer_two_neurons']} layer_two_neurons,\"\n",
    "file = open(\"sample.txt\",\"w\")\n",
    "file.write(string_to_save)\n",
    "file.close()"
   ]
  },
  {
   "cell_type": "code",
   "execution_count": null,
   "metadata": {},
   "outputs": [],
   "source": [
    "n_epochs = gs.best_params_['nn__epochs']\n",
    "layer_one_dropout = gs.best_params_['nn__layer_one_dropout']\n",
    "layer_one_neurons = gs.best_params_['nn__layer_one_neurons']\n",
    "layer_two_neurons = gs.best_params_['nn__layer_two_neurons']\n",
    "layer_two_dropout = gs.best_params_['nn__layer_two_dropout']"
   ]
  },
  {
   "cell_type": "code",
   "execution_count": null,
   "metadata": {},
   "outputs": [],
   "source": [
    "ss = StandardScaler()\n",
    "X_train = ss.fit_transform(X_train)\n",
    "X_test = ss.transform(X_test)"
   ]
  },
  {
   "cell_type": "code",
   "execution_count": null,
   "metadata": {},
   "outputs": [],
   "source": [
    "model = Sequential()\n",
    "\n",
    "# input layer \n",
    "model.add(Dense(24, activation = 'relu', input_dim = X_train.shape[1]))\n",
    "\n",
    "# adding a hidden layer \n",
    "model.add(Dense(layer_one_neurons, activation = 'relu'))\n",
    "\n",
    "model.add(Dropout(layer_one_dropout))\n",
    "\n",
    "# adding a hidden layer \n",
    "model.add(Dense(layer_two_neurons, activation = 'relu'))\n",
    "\n",
    "model.add(Dropout(layer_two_dropout))\n",
    "\n",
    "# output layer\n",
    "model.add(Dense(1, activation = None))\n",
    "\n",
    "model.compile(loss = 'mean_absolute_error', optimizer = 'adam')\n",
    "\n",
    "history = model.fit(X_train, y_train, validation_data = (X_test, y_test), epochs = n_epochs, verbose = 0)"
   ]
  },
  {
   "cell_type": "code",
   "execution_count": null,
   "metadata": {},
   "outputs": [],
   "source": [
    "plt.figure(figsize=(10,8))\n",
    "plt.plot(history.history['loss'], label = 'train')\n",
    "plt.plot(history.history['val_loss'], label = 'test')\n",
    "plt.legend();"
   ]
  },
  {
   "cell_type": "code",
   "execution_count": null,
   "metadata": {},
   "outputs": [],
   "source": [
    "r_square(X_test, y_test)"
   ]
  }
 ],
 "metadata": {
  "kernelspec": {
   "display_name": "Python 3",
   "language": "python",
   "name": "python3"
  },
  "language_info": {
   "codemirror_mode": {
    "name": "ipython",
    "version": 3
   },
   "file_extension": ".py",
   "mimetype": "text/x-python",
   "name": "python",
   "nbconvert_exporter": "python",
   "pygments_lexer": "ipython3",
   "version": "3.6.5"
  }
 },
 "nbformat": 4,
 "nbformat_minor": 2
}
