{
 "cells": [
  {
   "cell_type": "markdown",
   "metadata": {},
   "source": [
    "# IMPORTING AND CLEANING THE DATA"
   ]
  },
  {
   "cell_type": "code",
   "execution_count": 3,
   "metadata": {},
   "outputs": [],
   "source": [
    "import pandas as pd\n",
    "import numpy as np\n",
    "import matplotlib.pyplot as plt\n",
    "import os\n",
    "import time\n",
    "\n",
    "%matplotlib inline\n",
    "%config InlineBackend.figure_format = 'retina'\n",
    "pd.set_option('display.max_columns', 100)"
   ]
  },
  {
   "cell_type": "markdown",
   "metadata": {},
   "source": [
    "Creating a list with the .csv files gathering data of storm events in the US from 2000 to 2018"
   ]
  },
  {
   "cell_type": "code",
   "execution_count": 2,
   "metadata": {
    "scrolled": true
   },
   "outputs": [
    {
     "data": {
      "text/plain": [
       "['StormEvents_details-ftp_v1.0_d2013_c20170519.csv',\n",
       " 'StormEvents_details-ftp_v1.0_d2008_c20180718.csv',\n",
       " 'StormEvents_details-ftp_v1.0_d2001_c20170717.csv',\n",
       " 'StormEvents_details-ftp_v1.0_d2005_c20170717.csv',\n",
       " 'StormEvents_details-ftp_v1.0_d2002_c20170717.csv',\n",
       " 'StormEvents_details-ftp_v1.0_d2006_c20170717.csv',\n",
       " 'StormEvents_details-ftp_v1.0_d2010_c20170726.csv',\n",
       " 'StormEvents_details-ftp_v1.0_d2017_c20180918.csv',\n",
       " 'StormEvents_details-ftp_v1.0_d2016_c20180718.csv',\n",
       " 'StormEvents_details-ftp_v1.0_d2015_c20180525.csv',\n",
       " 'StormEvents_details-ftp_v1.0_d2011_c20180718.csv',\n",
       " 'StormEvents_details-ftp_v1.0_d2014_c20180718.csv',\n",
       " 'StormEvents_details-ftp_v1.0_d2007_c20170717.csv',\n",
       " 'StormEvents_details-ftp_v1.0_d2003_c20170717.csv',\n",
       " 'StormEvents_details-ftp_v1.0_d2018_c20180918.csv',\n",
       " 'StormEvents_details-ftp_v1.0_d2009_c20180718.csv',\n",
       " 'StormEvents_details-ftp_v1.0_d2012_c20170519.csv',\n",
       " 'StormEvents_details-ftp_v1.0_d2004_c20170717.csv',\n",
       " 'StormEvents_details-ftp_v1.0_d2000_c20170717.csv']"
      ]
     },
     "execution_count": 2,
     "metadata": {},
     "output_type": "execute_result"
    }
   ],
   "source": [
    "csv_files = [f for f in os.listdir('data') if f.endswith('.csv')]\n",
    "csv_files"
   ]
  },
  {
   "cell_type": "markdown",
   "metadata": {},
   "source": [
    "After exploring the .csv files, I created a list of the columns I want to use."
   ]
  },
  {
   "cell_type": "code",
   "execution_count": 3,
   "metadata": {},
   "outputs": [],
   "source": [
    "columns = ['STATE','CZ_TYPE','EVENT_TYPE','BEGIN_DATE_TIME', 'CZ_TIMEZONE', 'END_DATE_TIME',\n",
    "           'INJURIES_DIRECT', 'INJURIES_INDIRECT', 'DEATHS_DIRECT',\n",
    "           'DEATHS_INDIRECT', 'DAMAGE_PROPERTY', 'DAMAGE_CROPS','BEGIN_RANGE',\n",
    "           'BEGIN_AZIMUTH', 'END_RANGE', 'END_AZIMUTH','MAGNITUDE_TYPE','MAGNITUDE',\n",
    "           'BEGIN_LAT', 'BEGIN_LON', 'END_LAT', 'END_LON']"
   ]
  },
  {
   "cell_type": "markdown",
   "metadata": {},
   "source": [
    "Cleaning every single .csv file and appending all of them to a list so I can creat a dataframe."
   ]
  },
  {
   "cell_type": "code",
   "execution_count": 4,
   "metadata": {
    "scrolled": false
   },
   "outputs": [
    {
     "name": "stderr",
     "output_type": "stream",
     "text": [
      "/anaconda3/lib/python3.6/site-packages/IPython/core/interactiveshell.py:2785: DtypeWarning: Columns (29,34,35,37) have mixed types. Specify dtype option on import or set low_memory=False.\n",
      "  interactivity=interactivity, compiler=compiler, result=result)\n"
     ]
    },
    {
     "data": {
      "text/html": [
       "<div>\n",
       "<style scoped>\n",
       "    .dataframe tbody tr th:only-of-type {\n",
       "        vertical-align: middle;\n",
       "    }\n",
       "\n",
       "    .dataframe tbody tr th {\n",
       "        vertical-align: top;\n",
       "    }\n",
       "\n",
       "    .dataframe thead th {\n",
       "        text-align: right;\n",
       "    }\n",
       "</style>\n",
       "<table border=\"1\" class=\"dataframe\">\n",
       "  <thead>\n",
       "    <tr style=\"text-align: right;\">\n",
       "      <th></th>\n",
       "      <th>STATE</th>\n",
       "      <th>CZ_TYPE</th>\n",
       "      <th>EVENT_TYPE</th>\n",
       "      <th>BEGIN_DATE_TIME</th>\n",
       "      <th>CZ_TIMEZONE</th>\n",
       "      <th>END_DATE_TIME</th>\n",
       "      <th>INJURIES_DIRECT</th>\n",
       "      <th>INJURIES_INDIRECT</th>\n",
       "      <th>DEATHS_DIRECT</th>\n",
       "      <th>DEATHS_INDIRECT</th>\n",
       "      <th>DAMAGE_PROPERTY</th>\n",
       "      <th>DAMAGE_CROPS</th>\n",
       "      <th>BEGIN_RANGE</th>\n",
       "      <th>BEGIN_AZIMUTH</th>\n",
       "      <th>END_RANGE</th>\n",
       "      <th>END_AZIMUTH</th>\n",
       "      <th>MAGNITUDE_TYPE</th>\n",
       "      <th>MAGNITUDE</th>\n",
       "      <th>BEGIN_LAT</th>\n",
       "      <th>BEGIN_LON</th>\n",
       "      <th>END_LAT</th>\n",
       "      <th>END_LON</th>\n",
       "      <th>YEAR</th>\n",
       "      <th>BEGIN_MONTH</th>\n",
       "      <th>BEGIN_DAY</th>\n",
       "      <th>BEGIN_TIME</th>\n",
       "      <th>END_MONTH</th>\n",
       "      <th>END_DAY</th>\n",
       "      <th>END_TIME</th>\n",
       "      <th>DURATION_DAYS</th>\n",
       "      <th>DURATION_HOURS</th>\n",
       "      <th>DURATION_MINUTES</th>\n",
       "    </tr>\n",
       "  </thead>\n",
       "  <tbody>\n",
       "    <tr>\n",
       "      <th>0</th>\n",
       "      <td>MISSOURI</td>\n",
       "      <td>C</td>\n",
       "      <td>Thunderstorm Wind</td>\n",
       "      <td>2000-01-03 07:30:00</td>\n",
       "      <td>CST</td>\n",
       "      <td>03-JAN-00 07:30:00</td>\n",
       "      <td>0</td>\n",
       "      <td>0</td>\n",
       "      <td>0</td>\n",
       "      <td>0</td>\n",
       "      <td>3000.0</td>\n",
       "      <td>0.0</td>\n",
       "      <td>NaN</td>\n",
       "      <td>NaN</td>\n",
       "      <td>NaN</td>\n",
       "      <td>NaN</td>\n",
       "      <td>E</td>\n",
       "      <td>52.0</td>\n",
       "      <td>36.93</td>\n",
       "      <td>-90.75</td>\n",
       "      <td>36.83</td>\n",
       "      <td>-90.83</td>\n",
       "      <td>2000</td>\n",
       "      <td>1</td>\n",
       "      <td>3</td>\n",
       "      <td>07:30:00</td>\n",
       "      <td>1</td>\n",
       "      <td>3</td>\n",
       "      <td>07:30:00</td>\n",
       "      <td>0</td>\n",
       "      <td>0</td>\n",
       "      <td>0</td>\n",
       "    </tr>\n",
       "    <tr>\n",
       "      <th>1</th>\n",
       "      <td>MISSOURI</td>\n",
       "      <td>C</td>\n",
       "      <td>Thunderstorm Wind</td>\n",
       "      <td>2000-01-03 08:20:00</td>\n",
       "      <td>CST</td>\n",
       "      <td>03-JAN-00 08:20:00</td>\n",
       "      <td>0</td>\n",
       "      <td>0</td>\n",
       "      <td>0</td>\n",
       "      <td>0</td>\n",
       "      <td>3000.0</td>\n",
       "      <td>0.0</td>\n",
       "      <td>NaN</td>\n",
       "      <td>NaN</td>\n",
       "      <td>NaN</td>\n",
       "      <td>NaN</td>\n",
       "      <td>E</td>\n",
       "      <td>50.0</td>\n",
       "      <td>36.97</td>\n",
       "      <td>-90.55</td>\n",
       "      <td>37.13</td>\n",
       "      <td>-90.47</td>\n",
       "      <td>2000</td>\n",
       "      <td>1</td>\n",
       "      <td>3</td>\n",
       "      <td>08:20:00</td>\n",
       "      <td>1</td>\n",
       "      <td>3</td>\n",
       "      <td>08:20:00</td>\n",
       "      <td>0</td>\n",
       "      <td>0</td>\n",
       "      <td>0</td>\n",
       "    </tr>\n",
       "    <tr>\n",
       "      <th>2</th>\n",
       "      <td>MISSOURI</td>\n",
       "      <td>C</td>\n",
       "      <td>Thunderstorm Wind</td>\n",
       "      <td>2000-01-03 08:50:00</td>\n",
       "      <td>CST</td>\n",
       "      <td>03-JAN-00 09:00:00</td>\n",
       "      <td>3</td>\n",
       "      <td>0</td>\n",
       "      <td>0</td>\n",
       "      <td>0</td>\n",
       "      <td>250000.0</td>\n",
       "      <td>0.0</td>\n",
       "      <td>NaN</td>\n",
       "      <td>NaN</td>\n",
       "      <td>NaN</td>\n",
       "      <td>NaN</td>\n",
       "      <td>E</td>\n",
       "      <td>83.0</td>\n",
       "      <td>37.25</td>\n",
       "      <td>-89.67</td>\n",
       "      <td>37.30</td>\n",
       "      <td>-89.53</td>\n",
       "      <td>2000</td>\n",
       "      <td>1</td>\n",
       "      <td>3</td>\n",
       "      <td>08:50:00</td>\n",
       "      <td>1</td>\n",
       "      <td>3</td>\n",
       "      <td>09:00:00</td>\n",
       "      <td>0</td>\n",
       "      <td>0</td>\n",
       "      <td>10</td>\n",
       "    </tr>\n",
       "    <tr>\n",
       "      <th>3</th>\n",
       "      <td>ILLINOIS</td>\n",
       "      <td>C</td>\n",
       "      <td>Thunderstorm Wind</td>\n",
       "      <td>2000-01-03 09:18:00</td>\n",
       "      <td>CST</td>\n",
       "      <td>03-JAN-00 09:22:00</td>\n",
       "      <td>0</td>\n",
       "      <td>0</td>\n",
       "      <td>0</td>\n",
       "      <td>0</td>\n",
       "      <td>150000.0</td>\n",
       "      <td>0.0</td>\n",
       "      <td>2.0</td>\n",
       "      <td>NE</td>\n",
       "      <td>4.0</td>\n",
       "      <td>NE</td>\n",
       "      <td>E</td>\n",
       "      <td>100.0</td>\n",
       "      <td>37.73</td>\n",
       "      <td>-89.18</td>\n",
       "      <td>37.75</td>\n",
       "      <td>-89.17</td>\n",
       "      <td>2000</td>\n",
       "      <td>1</td>\n",
       "      <td>3</td>\n",
       "      <td>09:18:00</td>\n",
       "      <td>1</td>\n",
       "      <td>3</td>\n",
       "      <td>09:22:00</td>\n",
       "      <td>0</td>\n",
       "      <td>0</td>\n",
       "      <td>4</td>\n",
       "    </tr>\n",
       "    <tr>\n",
       "      <th>4</th>\n",
       "      <td>ILLINOIS</td>\n",
       "      <td>C</td>\n",
       "      <td>Thunderstorm Wind</td>\n",
       "      <td>2000-01-03 09:22:00</td>\n",
       "      <td>CST</td>\n",
       "      <td>03-JAN-00 09:24:00</td>\n",
       "      <td>0</td>\n",
       "      <td>0</td>\n",
       "      <td>0</td>\n",
       "      <td>0</td>\n",
       "      <td>100000.0</td>\n",
       "      <td>0.0</td>\n",
       "      <td>NaN</td>\n",
       "      <td>NaN</td>\n",
       "      <td>NaN</td>\n",
       "      <td>NaN</td>\n",
       "      <td>E</td>\n",
       "      <td>75.0</td>\n",
       "      <td>37.78</td>\n",
       "      <td>-89.12</td>\n",
       "      <td>37.78</td>\n",
       "      <td>-89.12</td>\n",
       "      <td>2000</td>\n",
       "      <td>1</td>\n",
       "      <td>3</td>\n",
       "      <td>09:22:00</td>\n",
       "      <td>1</td>\n",
       "      <td>3</td>\n",
       "      <td>09:24:00</td>\n",
       "      <td>0</td>\n",
       "      <td>0</td>\n",
       "      <td>2</td>\n",
       "    </tr>\n",
       "  </tbody>\n",
       "</table>\n",
       "</div>"
      ],
      "text/plain": [
       "      STATE CZ_TYPE         EVENT_TYPE     BEGIN_DATE_TIME CZ_TIMEZONE  \\\n",
       "0  MISSOURI       C  Thunderstorm Wind 2000-01-03 07:30:00         CST   \n",
       "1  MISSOURI       C  Thunderstorm Wind 2000-01-03 08:20:00         CST   \n",
       "2  MISSOURI       C  Thunderstorm Wind 2000-01-03 08:50:00         CST   \n",
       "3  ILLINOIS       C  Thunderstorm Wind 2000-01-03 09:18:00         CST   \n",
       "4  ILLINOIS       C  Thunderstorm Wind 2000-01-03 09:22:00         CST   \n",
       "\n",
       "        END_DATE_TIME  INJURIES_DIRECT  INJURIES_INDIRECT  DEATHS_DIRECT  \\\n",
       "0  03-JAN-00 07:30:00                0                  0              0   \n",
       "1  03-JAN-00 08:20:00                0                  0              0   \n",
       "2  03-JAN-00 09:00:00                3                  0              0   \n",
       "3  03-JAN-00 09:22:00                0                  0              0   \n",
       "4  03-JAN-00 09:24:00                0                  0              0   \n",
       "\n",
       "   DEATHS_INDIRECT  DAMAGE_PROPERTY  DAMAGE_CROPS  BEGIN_RANGE BEGIN_AZIMUTH  \\\n",
       "0                0           3000.0           0.0          NaN           NaN   \n",
       "1                0           3000.0           0.0          NaN           NaN   \n",
       "2                0         250000.0           0.0          NaN           NaN   \n",
       "3                0         150000.0           0.0          2.0            NE   \n",
       "4                0         100000.0           0.0          NaN           NaN   \n",
       "\n",
       "   END_RANGE END_AZIMUTH MAGNITUDE_TYPE  MAGNITUDE  BEGIN_LAT  BEGIN_LON  \\\n",
       "0        NaN         NaN              E       52.0      36.93     -90.75   \n",
       "1        NaN         NaN              E       50.0      36.97     -90.55   \n",
       "2        NaN         NaN              E       83.0      37.25     -89.67   \n",
       "3        4.0          NE              E      100.0      37.73     -89.18   \n",
       "4        NaN         NaN              E       75.0      37.78     -89.12   \n",
       "\n",
       "   END_LAT  END_LON  YEAR  BEGIN_MONTH  BEGIN_DAY BEGIN_TIME  END_MONTH  \\\n",
       "0    36.83   -90.83  2000            1          3   07:30:00          1   \n",
       "1    37.13   -90.47  2000            1          3   08:20:00          1   \n",
       "2    37.30   -89.53  2000            1          3   08:50:00          1   \n",
       "3    37.75   -89.17  2000            1          3   09:18:00          1   \n",
       "4    37.78   -89.12  2000            1          3   09:22:00          1   \n",
       "\n",
       "   END_DAY  END_TIME  DURATION_DAYS  DURATION_HOURS  DURATION_MINUTES  \n",
       "0        3  07:30:00              0               0                 0  \n",
       "1        3  08:20:00              0               0                 0  \n",
       "2        3  09:00:00              0               0                10  \n",
       "3        3  09:22:00              0               0                 4  \n",
       "4        3  09:24:00              0               0                 2  "
      ]
     },
     "execution_count": 4,
     "metadata": {},
     "output_type": "execute_result"
    }
   ],
   "source": [
    "# defining the dictionary needed to transform the damage values from strings to numbers\n",
    "damage_dict = {'K': 10**3, 'M': 10**6, 'B': 10**9, '0': 0 }\n",
    "\n",
    "# initializing the dataframe\n",
    "frames = []\n",
    "df = pd.DataFrame()\n",
    "\n",
    "for filename in csv_files:\n",
    "    temp_df = pd.read_csv('data/' + filename)\n",
    "    temp_df = temp_df[columns]\n",
    "    \n",
    "    # assigning Hail to the missing magnitude types\n",
    "    temp_df.loc[((temp_df['MAGNITUDE_TYPE'].isnull()) & (temp_df['MAGNITUDE'].isnull() == False)),'MAGNITUDE_TYPE'] = 'HA'\n",
    "    \n",
    "    # dropping rows that contain null values in one of the columns in the subset list\n",
    "    temp_df = temp_df.dropna(subset = ['MAGNITUDE','BEGIN_LAT','DAMAGE_PROPERTY'])\n",
    "    \n",
    "    # filling in empy values of DAMAGE_CROPS with 0\n",
    "    temp_df.loc[temp_df['DAMAGE_CROPS'].isnull(),'DAMAGE_CROPS'] = '0.00K'\n",
    "    \n",
    "    # feeature engineering the temporal variables\n",
    "    temp_df['YEAR'] = pd.to_datetime(temp_df['BEGIN_DATE_TIME']).dt.year\n",
    "    temp_df['BEGIN_MONTH'] = pd.to_datetime(temp_df['BEGIN_DATE_TIME']).dt.month\n",
    "    temp_df['BEGIN_DAY'] = pd.to_datetime(temp_df['BEGIN_DATE_TIME']).dt.day\n",
    "    temp_df['BEGIN_TIME'] = pd.to_datetime(temp_df['BEGIN_DATE_TIME']).dt.time\n",
    "    temp_df['END_MONTH'] = pd.to_datetime(temp_df['END_DATE_TIME']).dt.month\n",
    "    temp_df['END_DAY'] = pd.to_datetime(temp_df['END_DATE_TIME']).dt.day\n",
    "    temp_df['END_TIME'] = pd.to_datetime(temp_df['END_DATE_TIME']).dt.time\n",
    "    temp_df['DURATION_DAYS'] = (pd.to_datetime(temp_df['END_DATE_TIME']) - pd.to_datetime(temp_df['BEGIN_DATE_TIME'])).dt.days\n",
    "    temp_df['DURATION_HOURS'] = (pd.to_datetime(temp_df['END_DATE_TIME']) - pd.to_datetime(temp_df['BEGIN_DATE_TIME'])).dt.seconds//3600\n",
    "    temp_df['DURATION_MINUTES'] = ((pd.to_datetime(temp_df['END_DATE_TIME']) - pd.to_datetime(temp_df['BEGIN_DATE_TIME'])).dt.seconds//60)%60\n",
    "    \n",
    "    # transforming the damage variables from strings to float\n",
    "    temp_df.loc[temp_df['DAMAGE_PROPERTY']=='0','DAMAGE_PROPERTY'] = '0.0'\n",
    "    temp_df.loc[temp_df['DAMAGE_PROPERTY']=='K','DAMAGE_PROPERTY'] = '1K'\n",
    "    temp_df['DAMAGE_PROPERTY'] = temp_df['DAMAGE_PROPERTY'].map(lambda x: float(x[:-1])*damage_dict[x[-1]])\n",
    "    temp_df.loc[temp_df['DAMAGE_CROPS']=='0','DAMAGE_CROPS'] = '0.0'\n",
    "    temp_df.loc[temp_df['DAMAGE_CROPS']=='K','DAMAGE_CROPS'] = '1K'\n",
    "    temp_df['DAMAGE_CROPS'] = temp_df['DAMAGE_CROPS'].map(lambda x: float(x[:-1])*damage_dict[x[-1]])\n",
    "    \n",
    "    # adding the yearly df to the frames list\n",
    "    frames.append(temp_df)\n",
    "\n",
    "# generating unique dataframe from list of dataframes\n",
    "df = pd.concat(frames)\n",
    "\n",
    "# transfoming the begin_date_time to a time object to sort the df\n",
    "df['BEGIN_DATE_TIME'] = pd.to_datetime(df['BEGIN_DATE_TIME'])\n",
    "df.sort_values('BEGIN_DATE_TIME', inplace = True)\n",
    "\n",
    "# resetting the index\n",
    "df.reset_index(inplace = True, drop = True)\n",
    "\n",
    "# check\n",
    "df.head()"
   ]
  },
  {
   "cell_type": "code",
   "execution_count": 5,
   "metadata": {},
   "outputs": [
    {
     "data": {
      "text/plain": [
       "(320852, 32)"
      ]
     },
     "execution_count": 5,
     "metadata": {},
     "output_type": "execute_result"
    }
   ],
   "source": [
    "df.shape"
   ]
  },
  {
   "cell_type": "code",
   "execution_count": 6,
   "metadata": {
    "scrolled": true
   },
   "outputs": [],
   "source": [
    "df.to_csv('2000-2018_disasters.csv', index = False)"
   ]
  },
  {
   "cell_type": "markdown",
   "metadata": {},
   "source": [
    "Since the dataset I created contains over $320,000$ observations, I decided to focus on the storm events that caused at least $50K worth of property damage."
   ]
  },
  {
   "cell_type": "code",
   "execution_count": 10,
   "metadata": {},
   "outputs": [
    {
     "data": {
      "text/plain": [
       "(11047, 32)"
      ]
     },
     "execution_count": 10,
     "metadata": {},
     "output_type": "execute_result"
    }
   ],
   "source": [
    "sub = df[df['DAMAGE_PROPERTY']>50000]\n",
    "sub.shape"
   ]
  },
  {
   "cell_type": "code",
   "execution_count": 11,
   "metadata": {
    "scrolled": false
   },
   "outputs": [],
   "source": [
    "sub.to_csv('2000-2018_disasters_min50k.csv', index = False)"
   ]
  },
  {
   "cell_type": "code",
   "execution_count": null,
   "metadata": {},
   "outputs": [],
   "source": []
  }
 ],
 "metadata": {
  "kernelspec": {
   "display_name": "Python 3",
   "language": "python",
   "name": "python3"
  },
  "language_info": {
   "codemirror_mode": {
    "name": "ipython",
    "version": 3
   },
   "file_extension": ".py",
   "mimetype": "text/x-python",
   "name": "python",
   "nbconvert_exporter": "python",
   "pygments_lexer": "ipython3",
   "version": "3.6.5"
  }
 },
 "nbformat": 4,
 "nbformat_minor": 2
}
